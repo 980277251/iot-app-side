{
 "cells": [
  {
   "cell_type": "markdown",
   "metadata": {},
   "source": [
    "# Rosbag publish operation"
   ]
  },
  {
   "cell_type": "markdown",
   "metadata": {},
   "source": [
    "(new terminal) roscore \n",
    "\n",
    "(new terminal) rviz\n",
    "\n",
    "In rviz under \"Global Options\" change \"Fixed Frame\" to \"velodyne\"\n",
    "\n",
    "(new terminal) rosbag play -l /directory_to_rosbag_file"
   ]
  },
  {
   "cell_type": "markdown",
   "metadata": {},
   "source": [
    "# Depth- Clustering"
   ]
  },
  {
   "cell_type": "markdown",
   "metadata": {},
   "source": [
    "https://github.com/PRBonn/depth_clustering"
   ]
  },
  {
   "cell_type": "markdown",
   "metadata": {},
   "source": [
    "_Set up workspace and catkin_"
   ]
  },
  {
   "cell_type": "markdown",
   "metadata": {},
   "source": [
    "cd <catkin_ws>            # navigate to the workspace\n",
    "\n",
    "pipenv shell --fancy      # start a virtual environment\n",
    "\n",
    "pip install catkin-tools  # install catkin-tools for building\n",
    "\n",
    "mkdir src                 # create src dir if you don't have it already\n",
    "\n",
    "#Now you just need to clone the repo:\n",
    "\n",
    "git clone https://github.com/PRBonn/depth_clustering src/depth_clustering"
   ]
  },
  {
   "cell_type": "markdown",
   "metadata": {},
   "source": [
    "_How to build?_"
   ]
  },
  {
   "cell_type": "markdown",
   "metadata": {},
   "source": [
    "mkdir build\n",
    "\n",
    "cd build\n",
    "\n",
    "cmake ..\n",
    "\n",
    "make -j4\n",
    "\n",
    "ctest -VV  # run unit tests, optional"
   ]
  },
  {
   "cell_type": "markdown",
   "metadata": {},
   "source": [
    "_Run on real world data_"
   ]
  },
  {
   "cell_type": "markdown",
   "metadata": {},
   "source": [
    "cd <path_to_project>/build/devel/lib/depth_clustering\n",
    "\n",
    "./show_objects_moosmann --path data/scenario1/ (For Frank Moosmann's \"Velodyne SLAM\" Dataset)"
   ]
  },
  {
   "cell_type": "code",
   "execution_count": null,
   "metadata": {},
   "outputs": [],
   "source": []
  }
 ],
 "metadata": {
  "kernelspec": {
   "display_name": "Python 3",
   "language": "python",
   "name": "python3"
  },
  "language_info": {
   "codemirror_mode": {
    "name": "ipython",
    "version": 3
   },
   "file_extension": ".py",
   "mimetype": "text/x-python",
   "name": "python",
   "nbconvert_exporter": "python",
   "pygments_lexer": "ipython3",
   "version": "3.7.0"
  }
 },
 "nbformat": 4,
 "nbformat_minor": 2
}
